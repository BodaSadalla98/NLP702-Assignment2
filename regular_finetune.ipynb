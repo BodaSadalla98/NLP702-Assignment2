{
 "cells": [
  {
   "cell_type": "code",
   "execution_count": 1,
   "id": "2b9477af",
   "metadata": {},
   "outputs": [
    {
     "name": "stderr",
     "output_type": "stream",
     "text": [
      "/home/afz225/.conda/envs/hw1/lib/python3.9/site-packages/tqdm/auto.py:21: TqdmWarning: IProgress not found. Please update jupyter and ipywidgets. See https://ipywidgets.readthedocs.io/en/stable/user_install.html\n",
      "  from .autonotebook import tqdm as notebook_tqdm\n"
     ]
    }
   ],
   "source": [
    "from transformers import BertForSequenceClassification, BertTokenizerFast\n",
    "from datasets import load_dataset\n",
    "from transformers import TrainingArguments, Trainer\n",
    "import wandb"
   ]
  },
  {
   "cell_type": "code",
   "execution_count": null,
   "id": "f6d64b14",
   "metadata": {},
   "outputs": [],
   "source": []
  },
  {
   "cell_type": "code",
   "execution_count": 2,
   "id": "cee796b7",
   "metadata": {},
   "outputs": [],
   "source": [
    "# Define a function to preprocess data for the model\n",
    "def tokenize_function(examples, tokenizer):\n",
    "    tokenized = tokenizer(examples[\"utt\"], padding=\"max_length\", truncation=True)\n",
    "    tokenized['label'] = examples['label']\n",
    "    return tokenized"
   ]
  },
  {
   "cell_type": "code",
   "execution_count": 5,
   "id": "272a3b72",
   "metadata": {},
   "outputs": [],
   "source": [
    "def regular_finetune_bert(model_name = \"bert-base-uncased\"):\n",
    "    wandb.init(project=f\"nlphw2_{model_name}_regular-finetuning\")\n",
    "    # Load the Amazon Science Massive dataset (English)\n",
    "    train_val_test = load_dataset(\"AmazonScience/massive\", 'en-US', cache_dir=\"/scratch/afz225/.cache\").rename_columns({\"intent\":\"label\"})\n",
    "    train_dataset = train_val_test[\"train\"]\n",
    "    val_dataset = train_val_test[\"validation\"]\n",
    "    test_dataset = train_val_test[\"test\"]\n",
    "    tokenizer = BertTokenizerFast.from_pretrained(model_name)\n",
    "    model = BertForSequenceClassification.from_pretrained(model_name, num_labels=len(train_dataset.features['label'].names))  # Adjust num_labels for your classification task\n",
    "\n",
    "    # Preprocess training and validation data\n",
    "    train_dataset = train_dataset.map(tokenize_function,fn_kwargs={\"tokenizer\":tokenizer}, batched=True)\n",
    "    val_dataset = val_dataset.map(tokenize_function,fn_kwargs={\"tokenizer\":tokenizer}, batched=True)\n",
    "    test_dataset = test_dataset.map(tokenize_function,fn_kwargs={\"tokenizer\":tokenizer}, batched=True)\n",
    "    \n",
    "    # Training arguments\n",
    "    training_args = TrainingArguments(\n",
    "        output_dir=\"./results-\"+model_name,  # Adjust output directory\n",
    "        overwrite_output_dir=True,\n",
    "        num_train_epochs=3,  \n",
    "        per_device_train_batch_size=16,  \n",
    "        save_steps=500,\n",
    "        eval_steps=500,\n",
    "        logging_steps=50,\n",
    "        load_best_model_at_end=True,\n",
    "        save_total_limit=2,\n",
    "        save_strategy=\"steps\",\n",
    "        evaluation_strategy=\"steps\",\n",
    "        warmup_ratio=0.1,\n",
    "        report_to=\"wandb\"\n",
    "    )\n",
    "\n",
    "    # Create the Trainer\n",
    "    trainer = Trainer(\n",
    "        model=model,\n",
    "        args=training_args,\n",
    "        train_dataset=train_dataset,\n",
    "        eval_dataset=val_dataset,\n",
    "    )\n",
    "\n",
    "    # Start training\n",
    "    trainer.train()\n",
    "    \n",
    "    # Save the fine-tuned model\n",
    "    trainer.save_model(f\"./regular-fine-tuned_{model_name}\")  # Adjust save directory\n",
    "    return trainer.evaluate(test_dataset)"
   ]
  },
  {
   "cell_type": "code",
   "execution_count": 6,
   "id": "b9df3f44",
   "metadata": {},
   "outputs": [
    {
     "data": {
      "text/html": [
       "Finishing last run (ID:tmbiem5l) before initializing another..."
      ],
      "text/plain": [
       "<IPython.core.display.HTML object>"
      ]
     },
     "metadata": {},
     "output_type": "display_data"
    },
    {
     "data": {
      "text/html": [
       " View run <strong style=\"color:#cdcd00\">laced-serenity-4</strong> at: <a href='https://wandb.ai/afz225/nlphw2_bert-base-uncased_regular-finetuning/runs/tmbiem5l' target=\"_blank\">https://wandb.ai/afz225/nlphw2_bert-base-uncased_regular-finetuning/runs/tmbiem5l</a><br/>Synced 5 W&B file(s), 0 media file(s), 0 artifact file(s) and 0 other file(s)"
      ],
      "text/plain": [
       "<IPython.core.display.HTML object>"
      ]
     },
     "metadata": {},
     "output_type": "display_data"
    },
    {
     "data": {
      "text/html": [
       "Find logs at: <code>./wandb/run-20240306_112333-tmbiem5l/logs</code>"
      ],
      "text/plain": [
       "<IPython.core.display.HTML object>"
      ]
     },
     "metadata": {},
     "output_type": "display_data"
    },
    {
     "data": {
      "text/html": [
       "Successfully finished last run (ID:tmbiem5l). Initializing new run:<br/>"
      ],
      "text/plain": [
       "<IPython.core.display.HTML object>"
      ]
     },
     "metadata": {},
     "output_type": "display_data"
    },
    {
     "data": {
      "text/html": [
       "wandb version 0.16.4 is available!  To upgrade, please run:\n",
       " $ pip install wandb --upgrade"
      ],
      "text/plain": [
       "<IPython.core.display.HTML object>"
      ]
     },
     "metadata": {},
     "output_type": "display_data"
    },
    {
     "data": {
      "text/html": [
       "Tracking run with wandb version 0.16.3"
      ],
      "text/plain": [
       "<IPython.core.display.HTML object>"
      ]
     },
     "metadata": {},
     "output_type": "display_data"
    },
    {
     "data": {
      "text/html": [
       "Run data is saved locally in <code>/scratch/afz225/nlp_assignment2/wandb/run-20240306_112731-82gwkuq0</code>"
      ],
      "text/plain": [
       "<IPython.core.display.HTML object>"
      ]
     },
     "metadata": {},
     "output_type": "display_data"
    },
    {
     "data": {
      "text/html": [
       "Syncing run <strong><a href='https://wandb.ai/afz225/nlphw2_bert-base-uncased_regular-finetuning/runs/82gwkuq0' target=\"_blank\">jolly-sponge-5</a></strong> to <a href='https://wandb.ai/afz225/nlphw2_bert-base-uncased_regular-finetuning' target=\"_blank\">Weights & Biases</a> (<a href='https://wandb.me/run' target=\"_blank\">docs</a>)<br/>"
      ],
      "text/plain": [
       "<IPython.core.display.HTML object>"
      ]
     },
     "metadata": {},
     "output_type": "display_data"
    },
    {
     "data": {
      "text/html": [
       " View project at <a href='https://wandb.ai/afz225/nlphw2_bert-base-uncased_regular-finetuning' target=\"_blank\">https://wandb.ai/afz225/nlphw2_bert-base-uncased_regular-finetuning</a>"
      ],
      "text/plain": [
       "<IPython.core.display.HTML object>"
      ]
     },
     "metadata": {},
     "output_type": "display_data"
    },
    {
     "data": {
      "text/html": [
       " View run at <a href='https://wandb.ai/afz225/nlphw2_bert-base-uncased_regular-finetuning/runs/82gwkuq0' target=\"_blank\">https://wandb.ai/afz225/nlphw2_bert-base-uncased_regular-finetuning/runs/82gwkuq0</a>"
      ],
      "text/plain": [
       "<IPython.core.display.HTML object>"
      ]
     },
     "metadata": {},
     "output_type": "display_data"
    },
    {
     "name": "stderr",
     "output_type": "stream",
     "text": [
      "Some weights of BertForSequenceClassification were not initialized from the model checkpoint at bert-base-uncased and are newly initialized: ['classifier.bias', 'classifier.weight']\n",
      "You should probably TRAIN this model on a down-stream task to be able to use it for predictions and inference.\n",
      "Map: 100%|██████████| 2974/2974 [00:00<00:00, 3434.80 examples/s]\n",
      "Detected kernel version 4.18.0, which is below the recommended minimum of 5.5.0; this can cause the process to hang. It is recommended to upgrade the kernel to the minimum version or higher.\n"
     ]
    },
    {
     "data": {
      "text/html": [
       "\n",
       "    <div>\n",
       "      \n",
       "      <progress value='2160' max='2160' style='width:300px; height:20px; vertical-align: middle;'></progress>\n",
       "      [2160/2160 14:50, Epoch 3/3]\n",
       "    </div>\n",
       "    <table border=\"1\" class=\"dataframe\">\n",
       "  <thead>\n",
       " <tr style=\"text-align: left;\">\n",
       "      <th>Step</th>\n",
       "      <th>Training Loss</th>\n",
       "      <th>Validation Loss</th>\n",
       "    </tr>\n",
       "  </thead>\n",
       "  <tbody>\n",
       "    <tr>\n",
       "      <td>500</td>\n",
       "      <td>1.045700</td>\n",
       "      <td>0.876734</td>\n",
       "    </tr>\n",
       "    <tr>\n",
       "      <td>1000</td>\n",
       "      <td>0.471700</td>\n",
       "      <td>0.553591</td>\n",
       "    </tr>\n",
       "    <tr>\n",
       "      <td>1500</td>\n",
       "      <td>0.224900</td>\n",
       "      <td>0.478846</td>\n",
       "    </tr>\n",
       "    <tr>\n",
       "      <td>2000</td>\n",
       "      <td>0.176800</td>\n",
       "      <td>0.467182</td>\n",
       "    </tr>\n",
       "  </tbody>\n",
       "</table><p>"
      ],
      "text/plain": [
       "<IPython.core.display.HTML object>"
      ]
     },
     "metadata": {},
     "output_type": "display_data"
    },
    {
     "data": {
      "text/html": [
       "\n",
       "    <div>\n",
       "      \n",
       "      <progress value='372' max='372' style='width:300px; height:20px; vertical-align: middle;'></progress>\n",
       "      [372/372 00:25]\n",
       "    </div>\n",
       "    "
      ],
      "text/plain": [
       "<IPython.core.display.HTML object>"
      ]
     },
     "metadata": {},
     "output_type": "display_data"
    },
    {
     "data": {
      "text/plain": [
       "{'eval_loss': 0.48236119747161865,\n",
       " 'eval_runtime': 25.405,\n",
       " 'eval_samples_per_second': 117.063,\n",
       " 'eval_steps_per_second': 14.643,\n",
       " 'epoch': 3.0}"
      ]
     },
     "execution_count": 6,
     "metadata": {},
     "output_type": "execute_result"
    }
   ],
   "source": [
    "regular_finetune_bert()"
   ]
  },
  {
   "cell_type": "code",
   "execution_count": null,
   "id": "a3c45b74",
   "metadata": {},
   "outputs": [],
   "source": []
  }
 ],
 "metadata": {
  "kernelspec": {
   "display_name": "hw1",
   "language": "python",
   "name": "hw1"
  },
  "language_info": {
   "codemirror_mode": {
    "name": "ipython",
    "version": 3
   },
   "file_extension": ".py",
   "mimetype": "text/x-python",
   "name": "python",
   "nbconvert_exporter": "python",
   "pygments_lexer": "ipython3",
   "version": "3.9.18"
  }
 },
 "nbformat": 4,
 "nbformat_minor": 5
}
